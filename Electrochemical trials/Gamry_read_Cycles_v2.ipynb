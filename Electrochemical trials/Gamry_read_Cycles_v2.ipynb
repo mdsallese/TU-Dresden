{
 "cells": [
  {
   "cell_type": "code",
   "execution_count": 1,
   "metadata": {},
   "outputs": [
    {
     "data": {
      "text/plain": [
       "['3 CV 300_M1_S2_test2_cdl.DTA']"
      ]
     },
     "execution_count": 1,
     "metadata": {},
     "output_type": "execute_result"
    }
   ],
   "source": [
    "import os\n",
    "import glob \n",
    "\n",
    "files = glob.glob('*.DTA')\n",
    "files\n"
   ]
  },
  {
   "cell_type": "code",
   "execution_count": 2,
   "metadata": {},
   "outputs": [
    {
     "data": {
      "text/plain": [
       "'3 CV 300_M1_S2_test2_cdl.DTA'"
      ]
     },
     "execution_count": 2,
     "metadata": {},
     "output_type": "execute_result"
    }
   ],
   "source": [
    "ch = 0\n",
    "\n",
    "filename = files[ch]\n",
    "filename"
   ]
  },
  {
   "cell_type": "code",
   "execution_count": 3,
   "metadata": {},
   "outputs": [],
   "source": [
    "import numpy as np  # For creating arrays (optional)\n",
    "import pandas as pd\n",
    "\n",
    "\n",
    "# File path (replace with your actual file path)\n",
    "\n",
    "# Define the line number to start reading (skip header lines)\n",
    "start_line = 65  # For example, skip the first 5 lines (adjust as needed)\n",
    "\n",
    "# Initialize variables to store curves\n",
    "curves = []\n",
    "current_curve = []\n",
    "\n",
    "# Open and read the file\n",
    "with open(filename, \"r\") as file:\n",
    "    # Skip lines until the start_line\n",
    "    for i, line in enumerate(file):\n",
    "        if i < start_line:\n",
    "            continue  # Skip header lines\n",
    "        \n",
    "        line = line.strip()  # Remove leading/trailing spaces\n",
    "        \n",
    "        # If the line starts with \"CURVE\", we've reached a new curve\n",
    "        if line.startswith(\"CURVE\"):\n",
    "            # If there's an existing curve, add it to the list (as a numpy array)\n",
    "            if current_curve:\n",
    "                # Process each line of the curve before adding it to the curves list\n",
    "                processed_curve = []\n",
    "                for curve_data in current_curve:\n",
    "                    # Replace commas with periods\n",
    "                    curve_data = curve_data.replace(',', '.')\n",
    "                    # Split by tab (\\t)\n",
    "                    processed_curve.append(curve_data.split('\\t'))\n",
    "                \n",
    "                # Append the processed curve to curves\n",
    "                curves.append(np.array(processed_curve))  # Convert to array (optional)\n",
    "                current_curve = []  # Reset for the next curve\n",
    "\n",
    "        \n",
    "        # Skip lines with \"\\tPt\" (data header)\n",
    "        elif line.startswith(\"Pt\"):\n",
    "            pass\n",
    "\n",
    "            # Skip lines with \"\\t#\" (unit header)\n",
    "        elif line.startswith(\"#\"):\n",
    "            pass   \n",
    "\n",
    "        else:\n",
    "            # Add the line to the current curve if it's part of the curve data\n",
    "            current_curve.append(line)\n",
    "    \n",
    "\n",
    "    # Add the last curve to the list (if exists)\n",
    "    if current_curve:\n",
    "        processed_curve = []\n",
    "        for curve_data in current_curve:\n",
    "            # Replace commas with periods\n",
    "            curve_data = curve_data.replace(',', '.')\n",
    "            # Split by tab (\\t)\n",
    "            processed_curve.append(curve_data.split('\\t'))\n",
    "        \n",
    "        # Append the processed curve to curves\n",
    "        curves.append(np.array(processed_curve, dtype=object))  # Convert to array\n"
   ]
  },
  {
   "cell_type": "markdown",
   "metadata": {},
   "source": [
    "Convert the curve in the curves list into a dataframes. Splitting each curve into a dataframe"
   ]
  },
  {
   "cell_type": "code",
   "execution_count": 4,
   "metadata": {},
   "outputs": [
    {
     "name": "stdout",
     "output_type": "stream",
     "text": [
      "\n",
      "Curve_1:\n",
      "  Column_1  Column_2       Column_3       Column_4      Column_5  \\\n",
      "0        0  0.006667  -7.64853E-005  -2.67635E-004  0.00000E+000   \n",
      "1        1  0.013333   1.92204E-003  -2.00121E-004  0.00000E+000   \n",
      "2        2      0.02   3.92206E-003  -1.60665E-004  0.00000E+000   \n",
      "3        3  0.026667   5.92171E-003  -1.29566E-004  0.00000E+000   \n",
      "4        4  0.033333   7.92136E-003  -1.04228E-004  0.00000E+000   \n",
      "\n",
      "       Column_6      Column_7 Column_8     Column_9 Column_10  \n",
      "0  5.50598E-006  0.00000E+000        9  ...........   1359.17  \n",
      "1  2.00452E-003  0.00000E+000        9  ...........   1359.17  \n",
      "2  4.00353E-003  0.00000E+000        9  ...........   1359.17  \n",
      "3  6.00255E-003  0.00000E+000        9  ...........   1359.17  \n",
      "4  8.00156E-003  0.00000E+000        9  ...........   1359.17  \n",
      "\n",
      "Curve_2:\n",
      "  Column_1 Column_2      Column_3       Column_4      Column_5      Column_6  \\\n",
      "0      147  0.98667  9.39197E-002  -2.10196E-004  0.00000E+000  9.39966E-002   \n",
      "1      148  0.99333  9.19159E-002  -2.12466E-004  0.00000E+000  9.19976E-002   \n",
      "2      149        1  8.99174E-002  -2.15543E-004  0.00000E+000  8.99986E-002   \n",
      "3      150  1.00667  8.79145E-002  -2.17899E-004  0.00000E+000  8.79996E-002   \n",
      "4      151  1.01333  8.59178E-002  -2.20904E-004  0.00000E+000  8.60006E-002   \n",
      "\n",
      "       Column_7 Column_8     Column_9 Column_10  \n",
      "0  0.00000E+000        9  ...........   1359.17  \n",
      "1  0.00000E+000        9  ...........   1359.17  \n",
      "2  0.00000E+000        9  ...........   1359.17  \n",
      "3  0.00000E+000        9  ...........   1359.17  \n",
      "4  0.00000E+000        9  ...........   1359.17  \n"
     ]
    }
   ],
   "source": [
    "import pandas as pd\n",
    "\n",
    "# Assuming 'curves' is a list of curves (each curve is a list of lists or a numpy array)\n",
    "curve_dfs = {}  # Dictionary to store each curve as a separate DataFrame\n",
    "\n",
    "for i, curve in enumerate(curves, 1):\n",
    "    # print(f\"Curve {i}:\")\n",
    "    # print(curve)  # This will print each curve's data as it's processed\n",
    "    \n",
    "    # Convert the curve into a DataFrame\n",
    "    aux = pd.DataFrame(curve)\n",
    "    \n",
    "    # If you want to set meaningful column names, you can do so here\n",
    "    # Replace this with appropriate names based on your data\n",
    "    column_names = [f'Column_{j+1}' for j in range(aux.shape[1])]  # Creates a list of column names\n",
    "    aux.columns = column_names\n",
    "    \n",
    "    # Store the DataFrame in the dictionary using a unique key for each curve\n",
    "    curve_dfs[f'Curve_{i}'] = aux\n",
    "\n",
    "# Now each curve is stored as a separate DataFrame in the 'curve_dfs' dictionary\n",
    "# You can access them like this:\n",
    "# curve_dfs['Curve_1'], curve_dfs['Curve_2'], ...\n",
    "\n",
    "# Example: Print the first few rows of each curve DataFrame\n",
    "for curve_name, curve_df in curve_dfs.items():\n",
    "    print(f\"\\n{curve_name}:\")\n",
    "    print(curve_df.head())  # Display the first 5 rows of each curve"
   ]
  },
  {
   "cell_type": "code",
   "execution_count": 10,
   "metadata": {},
   "outputs": [
    {
     "name": "stdout",
     "output_type": "stream",
     "text": [
      "\n",
      "Selected and smoothed columns for Curve_1:\n",
      "       Time        Vf         A  Vf_smooth  A_smooth\n",
      "0  0.006667 -0.000076 -0.000268  -0.000041 -0.000247\n",
      "1  0.013333  0.001922 -0.000200   0.001924 -0.000204\n",
      "2  0.020000  0.003922 -0.000161   0.003904 -0.000169\n",
      "3  0.026667  0.005922 -0.000130   0.005896 -0.000140\n",
      "4  0.033333  0.007921 -0.000104   0.007897 -0.000116\n",
      "\n",
      "Selected and smoothed columns for Curve_2:\n",
      "      Time        Vf         A  Vf_smooth  A_smooth\n",
      "0  0.98667  0.093920 -0.000210   0.093917 -0.000210\n",
      "1  0.99333  0.091916 -0.000212   0.091918 -0.000213\n",
      "2  1.00000  0.089917 -0.000216   0.089918 -0.000216\n",
      "3  1.00667  0.087915 -0.000218   0.087918 -0.000218\n",
      "4  1.01333  0.085918 -0.000221   0.085918 -0.000221\n"
     ]
    }
   ],
   "source": [
    "from scipy.signal import savgol_filter\n",
    "\n",
    "# Iterate over each curve DataFrame in the dictionary and select columns 2, 3, and 4\n",
    "selected_columns = {}\n",
    "\n",
    "for curve_name, curve_df in curve_dfs.items():\n",
    "    # Select columns 2, 3, and 4 (which are indices 1, 2, and 3)\n",
    "    selected = curve_df.iloc[:, [1, 2, 3]]\n",
    "    \n",
    "    # Assign the new column names: \"Time\", \"Vf\", \"A\"\n",
    "    selected.columns = ['Time', 'Vf', 'A']\n",
    "    \n",
    "    # Convert the selected columns to float\n",
    "    selected = selected.astype(float)\n",
    "    \n",
    "    # Apply Savitzky-Golay filter for smoothing\n",
    "    window_size = 20  # Window size (must be odd)\n",
    "    poly_order = 3    # Polynomial order for the filter\n",
    "\n",
    "    selected['Vf_smooth'] = savgol_filter(selected['Vf'], window_size, poly_order)\n",
    "    selected['A_smooth'] = savgol_filter(selected['A'], window_size, poly_order)\n",
    "    \n",
    "    # Store the selected columns with new names and smoothed data in the dictionary\n",
    "    selected_columns[curve_name] = selected\n",
    "\n",
    "    # Print the first 5 rows to verify\n",
    "    print(f\"\\nSelected and smoothed columns for {curve_name}:\")\n",
    "    print(selected_columns[curve_name].head())\n",
    "\n",
    "# Now, selected_columns dictionary contains the original and smoothed data for each curve\n",
    "# Access them like this: selected_columns['Curve_1'], selected_columns['Curve_2'], ...\n"
   ]
  },
  {
   "cell_type": "code",
   "execution_count": 11,
   "metadata": {},
   "outputs": [
    {
     "data": {
      "text/plain": [
       "[<matplotlib.lines.Line2D at 0x181205f9550>]"
      ]
     },
     "execution_count": 11,
     "metadata": {},
     "output_type": "execute_result"
    },
    {
     "data": {
      "image/png": "[encoded data removed]",
      "text/plain": [
       "<Figure size 640x480 with 1 Axes>"
      ]
     },
     "metadata": {},
     "output_type": "display_data"
    }
   ],
   "source": [
    "# from scipy import signal\n",
    "import matplotlib.pyplot as plt\n",
    "from scipy.signal import savgol_filter\n",
    "\n",
    "plt.plot(selected_columns['Curve_1']['Vf'],selected_columns['Curve_1']['A'],'o')\n",
    "plt.plot(selected_columns['Curve_2']['Vf'],selected_columns['Curve_2']['A'],'o')\n",
    "\n",
    "plt.plot(selected_columns['Curve_1']['Vf_smooth'],selected_columns['Curve_1']['A_smooth'],'--')\n",
    "plt.plot(selected_columns['Curve_2']['Vf_smooth'],selected_columns['Curve_2']['A_smooth'],'--')"
   ]
  },
  {
   "cell_type": "code",
   "execution_count": 12,
   "metadata": {},
   "outputs": [
    {
     "name": "stdout",
     "output_type": "stream",
     "text": [
      "DataFrames saved to 3 CV 300_M1_S2_test2_cdl.DTA_sbs.xlsx\n"
     ]
    }
   ],
   "source": [
    "# Specify the filename where the Excel file will be saved\n",
    "name = filename + \"_sbs.xlsx\"\n",
    "\n",
    "# Use ExcelWriter to write multiple DataFrames into one Excel file\n",
    "with pd.ExcelWriter(name) as writer:\n",
    "    for curve_name, df in selected_columns.items():\n",
    "        # Write each DataFrame into a separate sheet\n",
    "        df.to_excel(writer, sheet_name=curve_name, index=False)\n",
    "\n",
    "print(f\"DataFrames saved to {name}\")\n"
   ]
  }
 ],
 "metadata": {
  "kernelspec": {
   "display_name": "Python 3",
   "language": "python",
   "name": "python3"
  },
  "language_info": {
   "codemirror_mode": {
    "name": "ipython",
    "version": 3
   },
   "file_extension": ".py",
   "mimetype": "text/x-python",
   "name": "python",
   "nbconvert_exporter": "python",
   "pygments_lexer": "ipython3",
   "version": "3.11.9"
  }
 },
 "nbformat": 4,
 "nbformat_minor": 2
}
