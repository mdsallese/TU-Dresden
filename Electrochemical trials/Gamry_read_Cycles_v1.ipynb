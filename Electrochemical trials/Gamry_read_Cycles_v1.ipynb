{
 "cells": [
  {
   "cell_type": "code",
   "execution_count": 13,
   "metadata": {},
   "outputs": [
    {
     "data": {
      "text/plain": [
       "['3 CV 300_M1_S2_test2_cdl.DTA',\n",
       " '4 CV 250_M1_S2_test2_cdl.DTA',\n",
       " '5 CV 200_M1_S2_test2_cdl.DTA',\n",
       " '6 CV 150_M1_S2_test2_cdl.DTA',\n",
       " '7 CV 100_M1_S2_test2_cdl.DTA',\n",
       " '8 CV 50_M1_S2_test2_cdl.DTA']"
      ]
     },
     "execution_count": 13,
     "metadata": {},
     "output_type": "execute_result"
    }
   ],
   "source": [
    "import os\n",
    "import glob \n",
    "\n",
    "files = glob.glob('*.DTA')\n",
    "files\n"
   ]
  },
  {
   "cell_type": "code",
   "execution_count": 14,
   "metadata": {},
   "outputs": [
    {
     "data": {
      "text/plain": [
       "'3 CV 300_M1_S2_test2_cdl.DTA'"
      ]
     },
     "execution_count": 14,
     "metadata": {},
     "output_type": "execute_result"
    }
   ],
   "source": [
    "ch = 0\n",
    "\n",
    "filename = files[ch]\n",
    "filename"
   ]
  },
  {
   "cell_type": "code",
   "execution_count": 15,
   "metadata": {},
   "outputs": [],
   "source": [
    "import numpy as np  # For creating arrays (optional)\n",
    "import pandas as pd\n",
    "\n",
    "\n",
    "# File path (replace with your actual file path)\n",
    "\n",
    "# Define the line number to start reading (skip header lines)\n",
    "start_line = 65  # For example, skip the first 5 lines (adjust as needed)\n",
    "\n",
    "# Initialize variables to store curves\n",
    "curves = []\n",
    "current_curve = []\n",
    "\n",
    "# Open and read the file\n",
    "with open(filename, \"r\") as file:\n",
    "    # Skip lines until the start_line\n",
    "    for i, line in enumerate(file):\n",
    "        if i < start_line:\n",
    "            continue  # Skip header lines\n",
    "        \n",
    "        line = line.strip()  # Remove leading/trailing spaces\n",
    "        \n",
    "        # If the line starts with \"CURVE\", we've reached a new curve\n",
    "        if line.startswith(\"CURVE\"):\n",
    "            # If there's an existing curve, add it to the list (as a numpy array)\n",
    "            if current_curve:\n",
    "                # Process each line of the curve before adding it to the curves list\n",
    "                processed_curve = []\n",
    "                for curve_data in current_curve:\n",
    "                    # Replace commas with periods\n",
    "                    curve_data = curve_data.replace(',', '.')\n",
    "                    # Split by tab (\\t)\n",
    "                    processed_curve.append(curve_data.split('\\t'))\n",
    "                \n",
    "                # Append the processed curve to curves\n",
    "                curves.append(np.array(processed_curve))  # Convert to array (optional)\n",
    "                current_curve = []  # Reset for the next curve\n",
    "\n",
    "        \n",
    "        # Skip lines with \"\\tPt\" (data header)\n",
    "        elif line.startswith(\"Pt\"):\n",
    "            pass\n",
    "\n",
    "            # Skip lines with \"\\t#\" (unit header)\n",
    "        elif line.startswith(\"#\"):\n",
    "            pass   \n",
    "\n",
    "        else:\n",
    "            # Add the line to the current curve if it's part of the curve data\n",
    "            current_curve.append(line)\n",
    "    \n",
    "\n",
    "    # Add the last curve to the list (if exists)\n",
    "    if current_curve:\n",
    "        processed_curve = []\n",
    "        for curve_data in current_curve:\n",
    "            # Replace commas with periods\n",
    "            curve_data = curve_data.replace(',', '.')\n",
    "            # Split by tab (\\t)\n",
    "            processed_curve.append(curve_data.split('\\t'))\n",
    "        \n",
    "        # Append the processed curve to curves\n",
    "        curves.append(np.array(processed_curve, dtype=object))  # Convert to array\n"
   ]
  },
  {
   "cell_type": "markdown",
   "metadata": {},
   "source": [
    "Convert the curve in the curves list into a dataframes. Splitting each curve into a dataframe"
   ]
  },
  {
   "cell_type": "code",
   "execution_count": 16,
   "metadata": {},
   "outputs": [
    {
     "name": "stdout",
     "output_type": "stream",
     "text": [
      "Curve 1:\n",
      "[['0' '0.006667' '-7.64853E-005' ... '9' '...........' '1359.17']\n",
      " ['1' '0.013333' '1.92204E-003' ... '9' '...........' '1359.17']\n",
      " ['2' '0.02' '3.92206E-003' ... '9' '...........' '1359.17']\n",
      " ...\n",
      " ['144' '0.96667' '9.99128E-002' ... '9' '...........' '1359.17']\n",
      " ['145' '0.97333' '9.79121E-002' ... '9' '...........' '1359.17']\n",
      " ['146' '0.98' '9.59121E-002' ... '9' '...........' '1359.17']]\n",
      "Curve 2:\n",
      "[['147' '0.98667' '9.39197E-002' '-2.10196E-004' '0.00000E+000'\n",
      "  '9.39966E-002' '0.00000E+000' '9' '...........' '1359.17']\n",
      " ['148' '0.99333' '9.19159E-002' '-2.12466E-004' '0.00000E+000'\n",
      "  '9.19976E-002' '0.00000E+000' '9' '...........' '1359.17']\n",
      " ['149' '1' '8.99174E-002' '-2.15543E-004' '0.00000E+000' '8.99986E-002'\n",
      "  '0.00000E+000' '9' '...........' '1359.17']\n",
      " ['150' '1.00667' '8.79145E-002' '-2.17899E-004' '0.00000E+000'\n",
      "  '8.79996E-002' '0.00000E+000' '9' '...........' '1359.17']\n",
      " ['151' '1.01333' '8.59178E-002' '-2.20904E-004' '0.00000E+000'\n",
      "  '8.60006E-002' '0.00000E+000' '9' '...........' '1359.17']\n",
      " ['152' '1.02' '8.39203E-002' '-2.23385E-004' '0.00000E+000'\n",
      "  '8.40015E-002' '0.00000E+000' '9' '...........' '1359.17']\n",
      " ['153' '1.02667' '8.19167E-002' '-2.26915E-004' '0.00000E+000'\n",
      "  '8.20025E-002' '0.00000E+000' '9' '...........' '1359.17']\n",
      " ['154' '1.03333' '7.99204E-002' '-2.29119E-004' '0.00000E+000'\n",
      "  '8.00035E-002' '0.00000E+000' '9' '...........' '1358.14']\n",
      " ['155' '1.04' '7.79212E-002' '-2.32153E-004' '0.00000E+000'\n",
      "  '7.80045E-002' '0.00000E+000' '9' '...........' '1358.14']\n",
      " ['156' '1.04667' '7.59246E-002' '-2.33847E-004' '0.00000E+000'\n",
      "  '7.60055E-002' '0.00000E+000' '9' '...........' '1358.14']\n",
      " ['157' '1.05333' '7.39097E-002' '-2.37162E-004' '0.00000E+000'\n",
      "  '7.39940E-002' '0.00000E+000' '9' '...........' '1358.14']\n",
      " ['158' '1.06' '7.19104E-002' '-2.39295E-004' '0.00000E+000'\n",
      "  '7.19950E-002' '0.00000E+000' '9' '...........' '1358.14']\n",
      " ['159' '1.06667' '6.99150E-002' '-2.41235E-004' '0.00000E+000'\n",
      "  '6.99960E-002' '0.00000E+000' '9' '...........' '1358.14']\n",
      " ['160' '1.07333' '6.79160E-002' '-2.43811E-004' '0.00000E+000'\n",
      "  '6.79969E-002' '0.00000E+000' '9' '...........' '1358.14']\n",
      " ['161' '1.08' '6.59160E-002' '-2.46131E-004' '0.00000E+000'\n",
      "  '6.59979E-002' '0.00000E+000' '9' '...........' '1358.14']\n",
      " ['162' '1.08667' '6.39156E-002' '-2.49387E-004' '0.00000E+000'\n",
      "  '6.39989E-002' '0.00000E+000' '9' '...........' '1358.14']\n",
      " ['163' '1.09333' '6.19179E-002' '-2.52019E-004' '0.00000E+000'\n",
      "  '6.19999E-002' '0.00000E+000' '9' '...........' '1358.14']\n",
      " ['164' '1.1' '5.99124E-002' '-2.54289E-004' '0.00000E+000'\n",
      "  '6.00009E-002' '0.00000E+000' '9' '...........' '1358.14']\n",
      " ['165' '1.10667' '5.79160E-002' '-2.57259E-004' '0.00000E+000'\n",
      "  '5.80019E-002' '0.00000E+000' '9' '...........' '1358.14']\n",
      " ['166' '1.11333' '5.59143E-002' '-2.59193E-004' '0.00000E+000'\n",
      "  '5.60029E-002' '0.00000E+000' '9' '...........' '1358.14']\n",
      " ['167' '1.12' '5.39153E-002' '-2.62066E-004' '0.00000E+000'\n",
      "  '5.40039E-002' '0.00000E+000' '9' '...........' '1358.14']\n",
      " ['168' '1.12667' '5.19182E-002' '-2.64052E-004' '0.00000E+000'\n",
      "  '5.20048E-002' '0.00000E+000' '9' '...........' '1358.14']\n",
      " ['169' '1.13333' '4.99181E-002' '-2.66784E-004' '0.00000E+000'\n",
      "  '5.00058E-002' '0.00000E+000' '9' '...........' '1358.14']\n",
      " ['170' '1.14' '4.79060E-002' '-2.70130E-004' '0.00000E+000'\n",
      "  '4.79943E-002' '0.00000E+000' '9' '...........' '1358.14']\n",
      " ['171' '1.14667' '4.59101E-002' '-2.71498E-004' '0.00000E+000'\n",
      "  '4.59953E-002' '0.00000E+000' '9' '...........' '1358.14']\n",
      " ['172' '1.15333' '4.39114E-002' '-2.74806E-004' '0.00000E+000'\n",
      "  '4.39963E-002' '0.00000E+000' '9' '...........' '1358.14']\n",
      " ['173' '1.16' '4.19152E-002' '-2.76556E-004' '0.00000E+000'\n",
      "  '4.19973E-002' '0.00000E+000' '9' '...........' '1358.14']\n",
      " ['174' '1.16667' '3.99125E-002' '-2.78970E-004' '0.00000E+000'\n",
      "  '3.99983E-002' '0.00000E+000' '9' '...........' '1358.14']\n",
      " ['175' '1.17333' '3.79181E-002' '-2.81315E-004' '0.00000E+000'\n",
      "  '3.79993E-002' '0.00000E+000' '9' '...........' '1358.14']\n",
      " ['176' '1.18' '3.59166E-002' '-2.84864E-004' '0.00000E+000'\n",
      "  '3.60002E-002' '0.00000E+000' '9' '...........' '1358.14']\n",
      " ['177' '1.18667' '3.39152E-002' '-2.87181E-004' '0.00000E+000'\n",
      "  '3.40012E-002' '0.00000E+000' '9' '...........' '1358.14']\n",
      " ['178' '1.19333' '3.19155E-002' '-2.88588E-004' '0.00000E+000'\n",
      "  '3.20022E-002' '0.00000E+000' '9' '...........' '1358.14']\n",
      " ['179' '1.2' '2.99143E-002' '-2.91037E-004' '0.00000E+000'\n",
      "  '3.00032E-002' '0.00000E+000' '9' '...........' '1358.14']\n",
      " ['180' '1.20667' '2.79167E-002' '-2.93903E-004' '0.00000E+000'\n",
      "  '2.80042E-002' '0.00000E+000' '9' '...........' '1358.14']\n",
      " ['181' '1.21333' '2.59172E-002' '-2.96281E-004' '0.00000E+000'\n",
      "  '2.60052E-002' '0.00000E+000' '9' '...........' '1358.14']\n",
      " ['182' '1.22' '2.39167E-002' '-2.99229E-004' '0.00000E+000'\n",
      "  '2.40062E-002' '0.00000E+000' '9' '...........' '1358.14']\n",
      " ['183' '1.22667' '2.19077E-002' '-3.02216E-004' '0.00000E+000'\n",
      "  '2.19947E-002' '0.00000E+000' '9' '...........' '1358.14']\n",
      " ['184' '1.23333' '1.99066E-002' '-3.04762E-004' '0.00000E+000'\n",
      "  '1.99956E-002' '0.00000E+000' '9' '...........' '1358.14']\n",
      " ['185' '1.24' '1.79065E-002' '-3.07166E-004' '0.00000E+000'\n",
      "  '1.79966E-002' '0.00000E+000' '9' '...........' '1358.14']\n",
      " ['186' '1.24667' '1.59051E-002' '-3.08946E-004' '0.00000E+000'\n",
      "  '1.59976E-002' '0.00000E+000' '9' '...........' '1358.14']\n",
      " ['187' '1.25333' '1.39042E-002' '-3.12496E-004' '0.00000E+000'\n",
      "  '1.39986E-002' '0.00000E+000' '9' '...........' '1358.14']\n",
      " ['188' '1.26' '1.19092E-002' '-3.14938E-004' '0.00000E+000'\n",
      "  '1.19996E-002' '0.00000E+000' '9' '...........' '1358.14']\n",
      " ['189' '1.26667' '9.91100E-003' '-3.17754E-004' '0.00000E+000'\n",
      "  '1.00006E-002' '0.00000E+000' '9' '...........' '1358.14']\n",
      " ['190' '1.27333' '7.90985E-003' '-3.20530E-004' '0.00000E+000'\n",
      "  '8.00156E-003' '0.00000E+000' '9' '...........' '1358.14']\n",
      " ['191' '1.28' '5.90783E-003' '-3.23361E-004' '0.00000E+000'\n",
      "  '6.00255E-003' '0.00000E+000' '9' '...........' '1358.14']\n",
      " ['192' '1.28667' '3.90717E-003' '-3.26262E-004' '0.00000E+000'\n",
      "  '4.00353E-003' '0.00000E+000' '9' '...........' '1358.14']\n",
      " ['193' '1.29333' '1.90965E-003' '-3.29737E-004' '0.00000E+000'\n",
      "  '2.00452E-003' '0.00000E+000' '9' '...........' '1358.14']\n",
      " ['194' '1.3' '-8.52437E-005' '-3.31574E-004' '0.00000E+000'\n",
      "  '5.50598E-006' '0.00000E+000' '9' '...........' '1358.14']]\n",
      "\n",
      "Curve_1:\n",
      "  Column_1  Column_2       Column_3       Column_4      Column_5  \\\n",
      "0        0  0.006667  -7.64853E-005  -2.67635E-004  0.00000E+000   \n",
      "1        1  0.013333   1.92204E-003  -2.00121E-004  0.00000E+000   \n",
      "2        2      0.02   3.92206E-003  -1.60665E-004  0.00000E+000   \n",
      "3        3  0.026667   5.92171E-003  -1.29566E-004  0.00000E+000   \n",
      "4        4  0.033333   7.92136E-003  -1.04228E-004  0.00000E+000   \n",
      "\n",
      "       Column_6      Column_7 Column_8     Column_9 Column_10  \n",
      "0  5.50598E-006  0.00000E+000        9  ...........   1359.17  \n",
      "1  2.00452E-003  0.00000E+000        9  ...........   1359.17  \n",
      "2  4.00353E-003  0.00000E+000        9  ...........   1359.17  \n",
      "3  6.00255E-003  0.00000E+000        9  ...........   1359.17  \n",
      "4  8.00156E-003  0.00000E+000        9  ...........   1359.17  \n",
      "\n",
      "Curve_2:\n",
      "  Column_1 Column_2      Column_3       Column_4      Column_5      Column_6  \\\n",
      "0      147  0.98667  9.39197E-002  -2.10196E-004  0.00000E+000  9.39966E-002   \n",
      "1      148  0.99333  9.19159E-002  -2.12466E-004  0.00000E+000  9.19976E-002   \n",
      "2      149        1  8.99174E-002  -2.15543E-004  0.00000E+000  8.99986E-002   \n",
      "3      150  1.00667  8.79145E-002  -2.17899E-004  0.00000E+000  8.79996E-002   \n",
      "4      151  1.01333  8.59178E-002  -2.20904E-004  0.00000E+000  8.60006E-002   \n",
      "\n",
      "       Column_7 Column_8     Column_9 Column_10  \n",
      "0  0.00000E+000        9  ...........   1359.17  \n",
      "1  0.00000E+000        9  ...........   1359.17  \n",
      "2  0.00000E+000        9  ...........   1359.17  \n",
      "3  0.00000E+000        9  ...........   1359.17  \n",
      "4  0.00000E+000        9  ...........   1359.17  \n"
     ]
    }
   ],
   "source": [
    "import pandas as pd\n",
    "\n",
    "# Assuming 'curves' is a list of curves (each curve is a list of lists or a numpy array)\n",
    "curve_dfs = {}  # Dictionary to store each curve as a separate DataFrame\n",
    "\n",
    "for i, curve in enumerate(curves, 1):\n",
    "    print(f\"Curve {i}:\")\n",
    "    print(curve)  # This will print each curve's data as it's processed\n",
    "    \n",
    "    # Convert the curve into a DataFrame\n",
    "    aux = pd.DataFrame(curve)\n",
    "    \n",
    "    # If you want to set meaningful column names, you can do so here\n",
    "    # Replace this with appropriate names based on your data\n",
    "    column_names = [f'Column_{j+1}' for j in range(aux.shape[1])]  # Creates a list of column names\n",
    "    aux.columns = column_names\n",
    "    \n",
    "    # Store the DataFrame in the dictionary using a unique key for each curve\n",
    "    curve_dfs[f'Curve_{i}'] = aux\n",
    "\n",
    "# Now each curve is stored as a separate DataFrame in the 'curve_dfs' dictionary\n",
    "# You can access them like this:\n",
    "# curve_dfs['Curve_1'], curve_dfs['Curve_2'], ...\n",
    "\n",
    "# Example: Print the first few rows of each curve DataFrame\n",
    "for curve_name, curve_df in curve_dfs.items():\n",
    "    print(f\"\\n{curve_name}:\")\n",
    "    print(curve_df.head())  # Display the first 5 rows of each curve"
   ]
  },
  {
   "cell_type": "code",
   "execution_count": 17,
   "metadata": {},
   "outputs": [],
   "source": [
    "# Iterate over each curve DataFrame in the dictionary and select columns 2, 3, and 4\n",
    "selected_columns = {}\n",
    "\n",
    "for curve_name, curve_df in curve_dfs.items():\n",
    "    # Select columns 2, 3, and 4 (which are indices 1, 2, and 3)\n",
    "    selected = curve_df.iloc[:, [1, 2, 3]]\n",
    "    \n",
    "    # Assign the new column names: \"Time\", \"Vf\", \"A\"\n",
    "    selected.columns = ['Time', 'Vf', 'A']\n",
    "    \n",
    "    # Convert the selected columns to float\n",
    "    selected = selected.astype(float)\n",
    "    \n",
    "    # Store the selected columns with new names and float type in the dictionary\n",
    "    selected_columns[curve_name] = selected\n",
    "\n",
    "    # Optionally, print the first 5 rows of selected columns to verify the conversion\n",
    "    # print(f\"\\nSelected and converted columns for {curve_name}:\")\n",
    "    # print(selected_columns[curve_name].head())  # Print the first 5 rows of selected columns\n",
    "\n",
    "# Now, selected_columns dictionary contains the selected columns with the new names and float type for each curve\n",
    "# Access them like this: selected_columns['Curve_1'], selected_columns['Curve_2'], ..."
   ]
  },
  {
   "cell_type": "code",
   "execution_count": 25,
   "metadata": {},
   "outputs": [
    {
     "data": {
      "text/plain": [
       "[<matplotlib.lines.Line2D at 0x23b180c3450>]"
      ]
     },
     "execution_count": 25,
     "metadata": {},
     "output_type": "execute_result"
    },
    {
     "data": {
      "image/png": "[encoded data removed]",
      "text/plain": [
       "<Figure size 640x480 with 1 Axes>"
      ]
     },
     "metadata": {},
     "output_type": "display_data"
    }
   ],
   "source": [
    "from scipy import signal\n",
    "import matplotlib.pyplot as plt\n",
    "\n",
    "plt.plot(selected_columns['Curve_1']['Vf'],signal.medfilt(selected_columns['Curve_1']['A'],3),'o')\n",
    "plt.plot(selected_columns['Curve_2']['Vf'],selected_columns['Curve_2']['A'],'o')"
   ]
  },
  {
   "cell_type": "code",
   "execution_count": 19,
   "metadata": {},
   "outputs": [
    {
     "name": "stdout",
     "output_type": "stream",
     "text": [
      "DataFrames saved to 3 CV 300_M1_S2_test2_cdl.DTA_suavebiensuave.xlsx\n"
     ]
    }
   ],
   "source": [
    "# Specify the filename where the Excel file will be saved\n",
    "name = filename + \"_suavebiensuave.xlsx\"\n",
    "\n",
    "# Use ExcelWriter to write multiple DataFrames into one Excel file\n",
    "with pd.ExcelWriter(name) as writer:\n",
    "    for curve_name, df in selected_columns.items():\n",
    "        # Write each DataFrame into a separate sheet\n",
    "        df.to_excel(writer, sheet_name=curve_name, index=False)\n",
    "\n",
    "print(f\"DataFrames saved to {name}\")\n"
   ]
  }
 ],
 "metadata": {
  "kernelspec": {
   "display_name": "Python 3",
   "language": "python",
   "name": "python3"
  },
  "language_info": {
   "codemirror_mode": {
    "name": "ipython",
    "version": 3
   },
   "file_extension": ".py",
   "mimetype": "text/x-python",
   "name": "python",
   "nbconvert_exporter": "python",
   "pygments_lexer": "ipython3",
   "version": "3.11.9"
  }
 },
 "nbformat": 4,
 "nbformat_minor": 2
}
